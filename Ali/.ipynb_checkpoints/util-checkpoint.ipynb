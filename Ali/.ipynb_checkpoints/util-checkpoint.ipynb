{
 "cells": [
  {
   "cell_type": "code",
   "execution_count": 9,
   "id": "74a8b8f3",
   "metadata": {},
   "outputs": [],
   "source": [
    "import pandas as pd\n",
    "from pathlib import Path"
   ]
  },
  {
   "cell_type": "code",
   "execution_count": 15,
   "id": "bd981a69",
   "metadata": {},
   "outputs": [],
   "source": [
    "def clean_data(df):\n",
    "    df = df.dropna().reset_index(drop=True)\n",
    "    return df"
   ]
  },
  {
   "cell_type": "code",
   "execution_count": 13,
   "id": "18f0ec37",
   "metadata": {},
   "outputs": [],
   "source": [
    "def read_csv_to_df(address: str) -> pd.DataFrame:\n",
    "    file_name = Path(file_address)\n",
    "    df = None\n",
    "    if file_name.exists():\n",
    "        print(\"Reading file {}.\".format(file_address))\n",
    "        df = pd.read_csv(file_address)\n",
    "        print(df.head())\n",
    "    else: \n",
    "        print(\"file {} does not exists.\".format(file_address))\n",
    "    return df"
   ]
  },
  {
   "cell_type": "code",
   "execution_count": 8,
   "id": "c63f62c6",
   "metadata": {},
   "outputs": [],
   "source": [
    "def clean_text_reg(text: str)-> str: \n",
    "    text = text.lower()\n",
    "    text = re.sub('@', '', text)\n",
    "    text = re.sub('\\[.*?\\]', '', text)\n",
    "    text = re.sub('https?://\\S+|www\\.\\S+', '', text)\n",
    "    text = re.sub('<.*?>+', '', text)\n",
    "    text = re.sub('[%s]' % re.escape(string.punctuation), '', text)\n",
    "    text = re.sub('\\n', '', text)\n",
    "    text = re.sub('\\w*\\d\\w*', '', text)\n",
    "    text = re.sub(r\"[^a-zA-Z ]+\", \"\", text)\n",
    "    \n",
    "    #Tokenize the data\n",
    "    text = nltk.word_tokenize(text)\n",
    "    #Remove stopwords\n",
    "    text = [w for w in text if w not in stop_words]\n",
    "    \n",
    "    return text\n",
    "    "
   ]
  },
  {
   "cell_type": "code",
   "execution_count": 14,
   "id": "715c4d5e",
   "metadata": {},
   "outputs": [],
   "source": [
    "def make_stop_words():\n",
    "    return stopwords.words('english')"
   ]
  },
  {
   "cell_type": "code",
   "execution_count": 2,
   "id": "0b8eeb8d",
   "metadata": {},
   "outputs": [],
   "source": [
    "def zscore(df,selected_col_names):\n",
    "    scaler = preprocessing.MinMaxScaler()\n",
    "    d = scaler.fit_transform(df_corr_april_2021_adult)\n",
    "    scaled_df = pd.DataFrame(d, columns=selected_col_names)\n",
    "   \n",
    "    return scaled_df.head()"
   ]
  },
  {
   "cell_type": "code",
   "execution_count": null,
   "id": "a1956ea6",
   "metadata": {},
   "outputs": [],
   "source": []
  }
 ],
 "metadata": {
  "kernelspec": {
   "display_name": "Python 3",
   "language": "python",
   "name": "python3"
  },
  "language_info": {
   "codemirror_mode": {
    "name": "ipython",
    "version": 3
   },
   "file_extension": ".py",
   "mimetype": "text/x-python",
   "name": "python",
   "nbconvert_exporter": "python",
   "pygments_lexer": "ipython3",
   "version": "3.8.8"
  }
 },
 "nbformat": 4,
 "nbformat_minor": 5
}
